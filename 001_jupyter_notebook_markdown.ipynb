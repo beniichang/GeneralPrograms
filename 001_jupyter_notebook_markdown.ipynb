{
 "cells": [
  {
   "cell_type": "markdown",
   "id": "47482389",
   "metadata": {},
   "source": [
    "#### 1. space, tab\n",
    "Type \"nbsp\" to add a single space. <br>\n",
    "Type \"ensp\" to add 2 spaces. <br>\n",
    "Type \"emsp\" to add 4 spaces. <br>\n",
    "Use the non-breaking space (nbsp) 4 times to insert a tab. <br>"
   ]
  },
  {
   "cell_type": "markdown",
   "id": "a108a431",
   "metadata": {},
   "source": [
    "#### space, tab example\n",
    "We can use regular expressions to help us with more complex parsing. <br>\n",
    "For example '@[A-Za-z0-9_]+' will return all words that: <br>\n",
    "start with '@' and are followed by at least one: <br>\n",
    "&emsp; capital letter ('A-Z') <br>\n",
    "&ensp;&ensp; lowercase letter ('a-z') <br>\n",
    "&nbsp;&nbsp;&nbsp;&nbsp; number ('0-9') <br>\n",
    "$\\;\\;\\;$    or underscore ('_') <br>"
   ]
  },
  {
   "cell_type": "markdown",
   "id": "990a95ca",
   "metadata": {},
   "source": [
    "####  2. \\<br> for new row"
   ]
  },
  {
   "cell_type": "markdown",
   "id": "a2b75ef9",
   "metadata": {},
   "source": [
    "#### 3. \\<s> 'quote'' \\<s/> for crossed words\n",
    "<s>`n = 'some name that has a special effect'`</s>"
   ]
  },
  {
   "cell_type": "markdown",
   "id": "9bacec83",
   "metadata": {},
   "source": [
    "`def my_fancy_code():`    \n",
    "&emsp;<s>`n = 'some name that has a special effect'`</s>  \n",
    "&ensp;&ensp;<s>`n = 'some name that has a special effect'`</s>  \n",
    "&nbsp;&nbsp;&nbsp;&nbsp;<s>`n = 'some name that has a special effect'`</s>  \n",
    "$\\;\\;\\;$<s>`n = 'some name that has a special effect'`</s>  "
   ]
  }
 ],
 "metadata": {
  "kernelspec": {
   "display_name": "py39",
   "language": "python",
   "name": "py39"
  },
  "language_info": {
   "codemirror_mode": {
    "name": "ipython",
    "version": 3
   },
   "file_extension": ".py",
   "mimetype": "text/x-python",
   "name": "python",
   "nbconvert_exporter": "python",
   "pygments_lexer": "ipython3",
   "version": "3.9.12"
  }
 },
 "nbformat": 4,
 "nbformat_minor": 5
}
